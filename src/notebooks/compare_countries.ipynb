{
 "cells": [
  {
   "cell_type": "markdown",
   "id": "cfb446b8",
   "metadata": {},
   "source": [
    "Task 3: Cross-Country Comparison"
   ]
  },
  {
   "cell_type": "code",
   "execution_count": null,
   "id": "974bcba3",
   "metadata": {},
   "outputs": [],
   "source": [
    "## Step 1: Load Cleaned Data\n",
    "\n",
    "I load the cleaned datasets for Benin, Sierra Leone, and Togo from the local CSV files located in the `data/` directory. This ensures we are working with consistent, pre-processed data for comparison.\n"
   ]
  },
  {
   "cell_type": "code",
   "execution_count": 4,
   "id": "cc0df36b",
   "metadata": {},
   "outputs": [
    {
     "data": {
      "text/html": [
       "<div>\n",
       "<style scoped>\n",
       "    .dataframe tbody tr th:only-of-type {\n",
       "        vertical-align: middle;\n",
       "    }\n",
       "\n",
       "    .dataframe tbody tr th {\n",
       "        vertical-align: top;\n",
       "    }\n",
       "\n",
       "    .dataframe thead th {\n",
       "        text-align: right;\n",
       "    }\n",
       "</style>\n",
       "<table border=\"1\" class=\"dataframe\">\n",
       "  <thead>\n",
       "    <tr style=\"text-align: right;\">\n",
       "      <th></th>\n",
       "      <th>Timestamp</th>\n",
       "      <th>GHI</th>\n",
       "      <th>DNI</th>\n",
       "      <th>DHI</th>\n",
       "      <th>ModA</th>\n",
       "      <th>ModB</th>\n",
       "      <th>Tamb</th>\n",
       "      <th>RH</th>\n",
       "      <th>WS</th>\n",
       "      <th>WSgust</th>\n",
       "      <th>WSstdev</th>\n",
       "      <th>WD</th>\n",
       "      <th>WDstdev</th>\n",
       "      <th>BP</th>\n",
       "      <th>Cleaning</th>\n",
       "      <th>Precipitation</th>\n",
       "      <th>TModA</th>\n",
       "      <th>TModB</th>\n",
       "      <th>Comments</th>\n",
       "      <th>Country</th>\n",
       "    </tr>\n",
       "  </thead>\n",
       "  <tbody>\n",
       "    <tr>\n",
       "      <th>0</th>\n",
       "      <td>2021-08-09 00:01</td>\n",
       "      <td>-1.2</td>\n",
       "      <td>-0.2</td>\n",
       "      <td>-1.1</td>\n",
       "      <td>0.0</td>\n",
       "      <td>0.0</td>\n",
       "      <td>26.2</td>\n",
       "      <td>93.4</td>\n",
       "      <td>0.0</td>\n",
       "      <td>0.4</td>\n",
       "      <td>0.1</td>\n",
       "      <td>122.1</td>\n",
       "      <td>0.0</td>\n",
       "      <td>998</td>\n",
       "      <td>0</td>\n",
       "      <td>0.0</td>\n",
       "      <td>26.3</td>\n",
       "      <td>26.2</td>\n",
       "      <td>NaN</td>\n",
       "      <td>Benin</td>\n",
       "    </tr>\n",
       "    <tr>\n",
       "      <th>1</th>\n",
       "      <td>2021-08-09 00:02</td>\n",
       "      <td>-1.1</td>\n",
       "      <td>-0.2</td>\n",
       "      <td>-1.1</td>\n",
       "      <td>0.0</td>\n",
       "      <td>0.0</td>\n",
       "      <td>26.2</td>\n",
       "      <td>93.6</td>\n",
       "      <td>0.0</td>\n",
       "      <td>0.0</td>\n",
       "      <td>0.0</td>\n",
       "      <td>0.0</td>\n",
       "      <td>0.0</td>\n",
       "      <td>998</td>\n",
       "      <td>0</td>\n",
       "      <td>0.0</td>\n",
       "      <td>26.3</td>\n",
       "      <td>26.2</td>\n",
       "      <td>NaN</td>\n",
       "      <td>Benin</td>\n",
       "    </tr>\n",
       "    <tr>\n",
       "      <th>2</th>\n",
       "      <td>2021-08-09 00:03</td>\n",
       "      <td>-1.1</td>\n",
       "      <td>-0.2</td>\n",
       "      <td>-1.1</td>\n",
       "      <td>0.0</td>\n",
       "      <td>0.0</td>\n",
       "      <td>26.2</td>\n",
       "      <td>93.7</td>\n",
       "      <td>0.3</td>\n",
       "      <td>1.1</td>\n",
       "      <td>0.5</td>\n",
       "      <td>124.6</td>\n",
       "      <td>1.5</td>\n",
       "      <td>997</td>\n",
       "      <td>0</td>\n",
       "      <td>0.0</td>\n",
       "      <td>26.4</td>\n",
       "      <td>26.2</td>\n",
       "      <td>NaN</td>\n",
       "      <td>Benin</td>\n",
       "    </tr>\n",
       "    <tr>\n",
       "      <th>3</th>\n",
       "      <td>2021-08-09 00:04</td>\n",
       "      <td>-1.1</td>\n",
       "      <td>-0.1</td>\n",
       "      <td>-1.0</td>\n",
       "      <td>0.0</td>\n",
       "      <td>0.0</td>\n",
       "      <td>26.2</td>\n",
       "      <td>93.3</td>\n",
       "      <td>0.2</td>\n",
       "      <td>0.7</td>\n",
       "      <td>0.4</td>\n",
       "      <td>120.3</td>\n",
       "      <td>1.3</td>\n",
       "      <td>997</td>\n",
       "      <td>0</td>\n",
       "      <td>0.0</td>\n",
       "      <td>26.4</td>\n",
       "      <td>26.3</td>\n",
       "      <td>NaN</td>\n",
       "      <td>Benin</td>\n",
       "    </tr>\n",
       "    <tr>\n",
       "      <th>4</th>\n",
       "      <td>2021-08-09 00:05</td>\n",
       "      <td>-1.0</td>\n",
       "      <td>-0.1</td>\n",
       "      <td>-1.0</td>\n",
       "      <td>0.0</td>\n",
       "      <td>0.0</td>\n",
       "      <td>26.2</td>\n",
       "      <td>93.3</td>\n",
       "      <td>0.1</td>\n",
       "      <td>0.7</td>\n",
       "      <td>0.3</td>\n",
       "      <td>113.2</td>\n",
       "      <td>1.0</td>\n",
       "      <td>997</td>\n",
       "      <td>0</td>\n",
       "      <td>0.0</td>\n",
       "      <td>26.4</td>\n",
       "      <td>26.3</td>\n",
       "      <td>NaN</td>\n",
       "      <td>Benin</td>\n",
       "    </tr>\n",
       "  </tbody>\n",
       "</table>\n",
       "</div>"
      ],
      "text/plain": [
       "          Timestamp  GHI  DNI  DHI  ModA  ModB  Tamb    RH   WS  WSgust  \\\n",
       "0  2021-08-09 00:01 -1.2 -0.2 -1.1   0.0   0.0  26.2  93.4  0.0     0.4   \n",
       "1  2021-08-09 00:02 -1.1 -0.2 -1.1   0.0   0.0  26.2  93.6  0.0     0.0   \n",
       "2  2021-08-09 00:03 -1.1 -0.2 -1.1   0.0   0.0  26.2  93.7  0.3     1.1   \n",
       "3  2021-08-09 00:04 -1.1 -0.1 -1.0   0.0   0.0  26.2  93.3  0.2     0.7   \n",
       "4  2021-08-09 00:05 -1.0 -0.1 -1.0   0.0   0.0  26.2  93.3  0.1     0.7   \n",
       "\n",
       "   WSstdev     WD  WDstdev   BP  Cleaning  Precipitation  TModA  TModB  \\\n",
       "0      0.1  122.1      0.0  998         0            0.0   26.3   26.2   \n",
       "1      0.0    0.0      0.0  998         0            0.0   26.3   26.2   \n",
       "2      0.5  124.6      1.5  997         0            0.0   26.4   26.2   \n",
       "3      0.4  120.3      1.3  997         0            0.0   26.4   26.3   \n",
       "4      0.3  113.2      1.0  997         0            0.0   26.4   26.3   \n",
       "\n",
       "   Comments Country  \n",
       "0       NaN   Benin  \n",
       "1       NaN   Benin  \n",
       "2       NaN   Benin  \n",
       "3       NaN   Benin  \n",
       "4       NaN   Benin  "
      ]
     },
     "execution_count": 4,
     "metadata": {},
     "output_type": "execute_result"
    }
   ],
   "source": [
    "# Import necessary libraries\n",
    "import pandas as pd  # For data handling\n",
    "import matplotlib.pyplot as plt  # For plotting\n",
    "import seaborn as sns  # For advanced plotting\n",
    "from scipy.stats import f_oneway, kruskal  # For statistical tests\n",
    "\n",
    "# ------------------------------------------\n",
    "# Load Cleaned CSV Data for Each Country\n",
    "# ------------------------------------------\n",
    "\n",
    "# Load the cleaned dataset for Benin\n",
    "benin = pd.read_csv('./data/benin_clean.csv')\n",
    "\n",
    "# Load the cleaned dataset for Togo\n",
    "togo = pd.read_csv('./data/togo-dapaong_clean.csv')\n",
    "\n",
    "# Load the cleaned dataset for Sierra Leone\n",
    "sierra = pd.read_csv('./data/sierraleone-bumbuna_clean.csv')\n",
    "\n",
    "# Add a new column 'Country' to each dataset so we can differentiate them later\n",
    "benin['Country'] = 'Benin'\n",
    "togo['Country'] = 'Togo'\n",
    "sierra['Country'] = 'Sierra Leone'\n",
    "\n",
    "# Concatenate all three dataframes into one for easy comparison\n",
    "df = pd.concat([benin, togo, sierra], ignore_index=True)\n",
    "\n",
    "# Display the first few rows of the combined dataframe\n",
    "df.head()\n"
   ]
  },
  {
   "cell_type": "markdown",
   "id": "db428c22",
   "metadata": {},
   "source": [
    "## Step 2: Metric Comparison – Visualizing Solar Metrics\n",
    "\n",
    "I create boxplots for Global Horizontal Irradiance (GHI), Direct Normal Irradiance (DNI), and Diffuse Horizontal Irradiance (DHI), each side-by-side and colored by country. This visualization allows ME to mempare the distribuTion, median, and spread of these solar radiation metrics across the three countries.\n"
   ]
  },
  {
   "cell_type": "code",
   "execution_count": 5,
   "id": "4364e700",
   "metadata": {},
   "outputs": [
    {
     "name": "stderr",
     "output_type": "stream",
     "text": [
      "C:\\Users\\user\\AppData\\Local\\Temp\\ipykernel_10416\\2653846204.py:8: FutureWarning: \n",
      "\n",
      "Passing `palette` without assigning `hue` is deprecated and will be removed in v0.14.0. Assign the `x` variable to `hue` and set `legend=False` for the same effect.\n",
      "\n",
      "  sns.boxplot(x='Country', y='GHI', data=df, palette='Set2')\n"
     ]
    },
    {
     "data": {
      "image/png": "[encoded data removed]",
      "text/plain": [
       "<Figure size 800x500 with 1 Axes>"
      ]
     },
     "metadata": {},
     "output_type": "display_data"
    },
    {
     "name": "stderr",
     "output_type": "stream",
     "text": [
      "C:\\Users\\user\\AppData\\Local\\Temp\\ipykernel_10416\\2653846204.py:16: FutureWarning: \n",
      "\n",
      "Passing `palette` without assigning `hue` is deprecated and will be removed in v0.14.0. Assign the `x` variable to `hue` and set `legend=False` for the same effect.\n",
      "\n",
      "  sns.boxplot(x='Country', y='DNI', data=df, palette='Set2')\n"
     ]
    },
    {
     "data": {
      "image/png": "[encoded data removed]",
      "text/plain": [
       "<Figure size 800x500 with 1 Axes>"
      ]
     },
     "metadata": {},
     "output_type": "display_data"
    },
    {
     "name": "stderr",
     "output_type": "stream",
     "text": [
      "C:\\Users\\user\\AppData\\Local\\Temp\\ipykernel_10416\\2653846204.py:24: FutureWarning: \n",
      "\n",
      "Passing `palette` without assigning `hue` is deprecated and will be removed in v0.14.0. Assign the `x` variable to `hue` and set `legend=False` for the same effect.\n",
      "\n",
      "  sns.boxplot(x='Country', y='DHI', data=df, palette='Set2')\n"
     ]
    },
    {
     "data": {
      "image/png": "[encoded data removed]",
      "text/plain": [
       "<Figure size 800x500 with 1 Axes>"
      ]
     },
     "metadata": {},
     "output_type": "display_data"
    }
   ],
   "source": [
    "# Set the visual style for seaborn\n",
    "sns.set(style=\"whitegrid\")\n",
    "\n",
    "# ---------------------------\n",
    "# Boxplot for GHI\n",
    "# ---------------------------\n",
    "plt.figure(figsize=(8, 5))\n",
    "sns.boxplot(x='Country', y='GHI', data=df, palette='Set2')\n",
    "plt.title(\"Boxplot of GHI by Country\")\n",
    "plt.show()\n",
    "\n",
    "# ---------------------------\n",
    "# Boxplot for DNI\n",
    "# ---------------------------\n",
    "plt.figure(figsize=(8, 5))\n",
    "sns.boxplot(x='Country', y='DNI', data=df, palette='Set2')\n",
    "plt.title(\"Boxplot of DNI by Country\")\n",
    "plt.show()\n",
    "\n",
    "# ---------------------------\n",
    "# Boxplot for DHI\n",
    "# ---------------------------\n",
    "plt.figure(figsize=(8, 5))\n",
    "sns.boxplot(x='Country', y='DHI', data=df, palette='Set2')\n",
    "plt.title(\"Boxplot of DHI by Country\")\n",
    "plt.show()\n"
   ]
  },
  {
   "cell_type": "markdown",
   "id": "d841d79b",
   "metadata": {},
   "source": [
    "## Step 3: Summary Table of Solar Metrics\n",
    "\n",
    "A summary table compares the mean, median, and standard deviation (SD) of GHI, DNI, and DHI for each country. These statistics provide insight into the central tendencies and variability in solar radiation values, critical for assessing solar potential.\n"
   ]
  },
  {
   "cell_type": "code",
   "execution_count": 6,
   "id": "4c06f753",
   "metadata": {},
   "outputs": [
    {
     "data": {
      "text/html": [
       "<div>\n",
       "<style scoped>\n",
       "    .dataframe tbody tr th:only-of-type {\n",
       "        vertical-align: middle;\n",
       "    }\n",
       "\n",
       "    .dataframe tbody tr th {\n",
       "        vertical-align: top;\n",
       "    }\n",
       "\n",
       "    .dataframe thead tr th {\n",
       "        text-align: left;\n",
       "    }\n",
       "\n",
       "    .dataframe thead tr:last-of-type th {\n",
       "        text-align: right;\n",
       "    }\n",
       "</style>\n",
       "<table border=\"1\" class=\"dataframe\">\n",
       "  <thead>\n",
       "    <tr>\n",
       "      <th></th>\n",
       "      <th colspan=\"3\" halign=\"left\">GHI</th>\n",
       "      <th colspan=\"3\" halign=\"left\">DNI</th>\n",
       "      <th colspan=\"3\" halign=\"left\">DHI</th>\n",
       "    </tr>\n",
       "    <tr>\n",
       "      <th></th>\n",
       "      <th>mean</th>\n",
       "      <th>median</th>\n",
       "      <th>std</th>\n",
       "      <th>mean</th>\n",
       "      <th>median</th>\n",
       "      <th>std</th>\n",
       "      <th>mean</th>\n",
       "      <th>median</th>\n",
       "      <th>std</th>\n",
       "    </tr>\n",
       "    <tr>\n",
       "      <th>Country</th>\n",
       "      <th></th>\n",
       "      <th></th>\n",
       "      <th></th>\n",
       "      <th></th>\n",
       "      <th></th>\n",
       "      <th></th>\n",
       "      <th></th>\n",
       "      <th></th>\n",
       "      <th></th>\n",
       "    </tr>\n",
       "  </thead>\n",
       "  <tbody>\n",
       "    <tr>\n",
       "      <th>Benin</th>\n",
       "      <td>240.34</td>\n",
       "      <td>1.8</td>\n",
       "      <td>330.87</td>\n",
       "      <td>167.19</td>\n",
       "      <td>-0.1</td>\n",
       "      <td>261.71</td>\n",
       "      <td>108.77</td>\n",
       "      <td>0.5</td>\n",
       "      <td>150.39</td>\n",
       "    </tr>\n",
       "    <tr>\n",
       "      <th>Sierra Leone</th>\n",
       "      <td>196.44</td>\n",
       "      <td>0.0</td>\n",
       "      <td>291.24</td>\n",
       "      <td>104.53</td>\n",
       "      <td>-0.1</td>\n",
       "      <td>201.70</td>\n",
       "      <td>110.11</td>\n",
       "      <td>-0.4</td>\n",
       "      <td>154.17</td>\n",
       "    </tr>\n",
       "    <tr>\n",
       "      <th>Togo</th>\n",
       "      <td>229.83</td>\n",
       "      <td>2.0</td>\n",
       "      <td>321.64</td>\n",
       "      <td>149.37</td>\n",
       "      <td>0.0</td>\n",
       "      <td>248.55</td>\n",
       "      <td>112.40</td>\n",
       "      <td>1.8</td>\n",
       "      <td>151.30</td>\n",
       "    </tr>\n",
       "  </tbody>\n",
       "</table>\n",
       "</div>"
      ],
      "text/plain": [
       "                 GHI                    DNI                    DHI         \\\n",
       "                mean median     std    mean median     std    mean median   \n",
       "Country                                                                     \n",
       "Benin         240.34    1.8  330.87  167.19   -0.1  261.71  108.77    0.5   \n",
       "Sierra Leone  196.44    0.0  291.24  104.53   -0.1  201.70  110.11   -0.4   \n",
       "Togo          229.83    2.0  321.64  149.37    0.0  248.55  112.40    1.8   \n",
       "\n",
       "                      \n",
       "                 std  \n",
       "Country               \n",
       "Benin         150.39  \n",
       "Sierra Leone  154.17  \n",
       "Togo          151.30  "
      ]
     },
     "execution_count": 6,
     "metadata": {},
     "output_type": "execute_result"
    }
   ],
   "source": [
    "# List of solar radiation metrics to summarize\n",
    "metrics = ['GHI', 'DNI', 'DHI']\n",
    "\n",
    "# Group by country and calculate mean, median, and standard deviation\n",
    "summary = df.groupby('Country')[metrics].agg(['mean', 'median', 'std']).round(2)\n",
    "\n",
    "# Display the summary statistics\n",
    "summary\n"
   ]
  },
  {
   "cell_type": "markdown",
   "id": "8ce3c878",
   "metadata": {},
   "source": [
    "## Step 4: Statistical Testing of GHI Differences\n",
    "\n",
    "To determine if differences in GHI between Benin, Sierra Leone, and Togo are statistically significant, I conduct a one-way ANOVA (or Kruskal–Wallis) test. The resulting p-values help confirm whether the observed variations are likely due to real differences rather than random chance.\n"
   ]
  },
  {
   "cell_type": "code",
   "execution_count": 7,
   "id": "20d211d7",
   "metadata": {},
   "outputs": [
    {
     "name": "stdout",
     "output_type": "stream",
     "text": [
      "ANOVA p-value for GHI comparison: 0.0000\n"
     ]
    }
   ],
   "source": [
    "# Perform one-way ANOVA test for GHI across the three countries\n",
    "f_stat, p_val = f_oneway(\n",
    "    df[df['Country'] == 'Benin']['GHI'],\n",
    "    df[df['Country'] == 'Togo']['GHI'],\n",
    "    df[df['Country'] == 'Sierra Leone']['GHI']\n",
    ")\n",
    "\n",
    "# Print the resulting p-value\n",
    "print(f\"ANOVA p-value for GHI comparison: {p_val:.4f}\")\n"
   ]
  },
  {
   "cell_type": "code",
   "execution_count": null,
   "id": "5d48e2f6",
   "metadata": {},
   "outputs": [
    {
     "name": "stdout",
     "output_type": "stream",
     "text": [
      "Kruskal–Wallis p-value for GHI comparison: 0.0000\n"
     ]
    }
   ],
   "source": [
    "# Perform Kruskal-Wallis test for GHI across the three countries\n",
    "kw_stat, kw_p = kruskal(\n",
    "    df[df['Country'] == 'Benin']['GHI'],\n",
    "    df[df['Country'] == 'Togo']['GHI'],\n",
    "    df[df['Country'] == 'Sierra Leone']['GHI']\n",
    ")\n",
    "\n",
    "# Print the resulting p-value\n",
    "print(f\"Kruskal–Wallis p-value for GHI comparison: {kw_p:.4f}\")\n"
   ]
  },
  {
   "cell_type": "markdown",
   "id": "54c114ac",
   "metadata": {},
   "source": [
    "### Key Observations\n",
    "\n",
    "#### 1. Sierra Leone shows the highest median GHI but also the greatest variability\n",
    "\n",
    "- **GHI (Global Horizontal Irradiance)** measures the total solar radiation received per unit area on a horizontal surface. It includes both direct sunlight and diffuse sky radiation.\n",
    "\n",
    "- Sierra Leone having the **highest median GHI** means it typically receives more solar radiation compared to Benin and Togo. This suggests favorable geographic or climatic conditions leading to more sunlight on average.\n",
    "\n",
    "- The **greatest variability** indicates that GHI values in Sierra Leone fluctuate widely over time or locations. This can be due to factors such as:\n",
    "  - Variable cloud cover,\n",
    "  - Seasonal weather changes,\n",
    "  - Atmospheric conditions like dust or humidity.\n",
    "\n",
    "- **Implications:**  \n",
    "  Higher median GHI is beneficial for solar power generation, but high variability can reduce predictability and stability of solar energy output. Systems in Sierra Leone may require better storage solutions or hybrid designs to handle these fluctuations.\n",
    "\n",
    "---\n",
    "\n",
    "#### 2. Togo has the most consistent DNI values, indicating stable direct solar radiation\n",
    "\n",
    "- **DNI (Direct Normal Irradiance)** measures solar radiation received per unit area by a surface perpendicular to the sun's rays, representing direct sunlight.\n",
    "\n",
    "- Togo’s **consistent DNI values** mean that its direct sunlight intensity varies less than in Benin or Sierra Leone.\n",
    "\n",
    "- This consistency suggests:\n",
    "  - More stable weather patterns,\n",
    "  - Less atmospheric interference such as clouds, dust, or pollution.\n",
    "\n",
    "- **Implications:**  \n",
    "  Stable DNI is ideal for solar technologies like concentrating solar power that rely heavily on direct sunlight. Togo’s stable solar conditions make it suitable for such solar installations.\n",
    "\n",
    "---\n",
    "\n",
    "#### 3. Kruskal–Wallis test suggests significant differences in GHI across countries (p < 0.05)\n",
    "\n",
    "- The **Kruskal–Wallis test** is a non-parametric method to assess if multiple independent groups come from the same distribution, especially when data may not be normally distributed.\n",
    "\n",
    "- A **p-value less than 0.05** indicates strong evidence against the null hypothesis that Benin, Togo, and Sierra Leone have the same GHI distribution.\n",
    "\n",
    "- This means at least one country’s GHI distribution differs significantly from the others.\n",
    "\n",
    "- **Implications:**  \n",
    "  Solar energy resources differ significantly across these countries. Therefore, solar energy policies and planning should be tailored to each country’s unique solar radiation profile rather than assuming uniform conditions.\n",
    "\n",
    "---\n",
    "\n",
    "### Summary:\n",
    "\n",
    "- **Sierra Leone**: highest average solar radiation but with high variability.\n",
    "- **Togo**: most stable direct sunlight, ideal for direct solar technologies.\n",
    "- **Statistical test** confirms significant solar resource differences, supporting country-specific strategies for solar energy deployment.\n",
    "\n"
   ]
  },
  {
   "cell_type": "markdown",
   "id": "76216a5b",
   "metadata": {},
   "source": [
    "## Visual Summary – Ranking by Average GHI\n",
    "\n",
    "A bar chart ranks the three countries by their average GHI values, providing a quick visual comparison of solar potential across the region.\n"
   ]
  },
  {
   "cell_type": "code",
   "execution_count": 9,
   "id": "9e583eeb",
   "metadata": {},
   "outputs": [
    {
     "name": "stderr",
     "output_type": "stream",
     "text": [
      "C:\\Users\\user\\AppData\\Local\\Temp\\ipykernel_10416\\882696236.py:6: FutureWarning: \n",
      "\n",
      "Passing `palette` without assigning `hue` is deprecated and will be removed in v0.14.0. Assign the `x` variable to `hue` and set `legend=False` for the same effect.\n",
      "\n",
      "  sns.barplot(x=avg_ghi.index, y=avg_ghi.values, palette='viridis')\n"
     ]
    },
    {
     "data": {
      "image/png": "[encoded data removed]",
      "text/plain": [
       "<Figure size 600x400 with 1 Axes>"
      ]
     },
     "metadata": {},
     "output_type": "display_data"
    }
   ],
   "source": [
    "# Group data by country and calculate average GHI\n",
    "avg_ghi = df.groupby('Country')['GHI'].mean().sort_values(ascending=False)\n",
    "\n",
    "# Create a bar chart to rank countries by average GHI\n",
    "plt.figure(figsize=(6, 4))\n",
    "sns.barplot(x=avg_ghi.index, y=avg_ghi.values, palette='viridis')\n",
    "plt.title(\"Average GHI by Country\")\n",
    "plt.ylabel(\"GHI\")\n",
    "plt.xlabel(\"Country\")\n",
    "plt.show()\n"
   ]
  }
 ],
 "metadata": {
  "kernelspec": {
   "display_name": "Python 3",
   "language": "python",
   "name": "python3"
  },
  "language_info": {
   "codemirror_mode": {
    "name": "ipython",
    "version": 3
   },
   "file_extension": ".py",
   "mimetype": "text/x-python",
   "name": "python",
   "nbconvert_exporter": "python",
   "pygments_lexer": "ipython3",
   "version": "3.13.0"
  }
 },
 "nbformat": 4,
 "nbformat_minor": 5
}
